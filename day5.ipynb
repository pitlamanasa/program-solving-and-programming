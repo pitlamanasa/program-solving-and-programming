{
 "cells": [
  {
   "cell_type": "markdown",
   "metadata": {},
   "source": [
    "### Day 5"
   ]
  },
  {
   "cell_type": "markdown",
   "metadata": {},
   "source": [
    "1. Factorial of a given number as a procedure\n",
    "\n",
    "         Factorial(5) -> 120\n",
    "\n",
    "         Factorial (6) -> 720\n",
    "\n"
   ]
  },
  {
   "cell_type": "code",
   "execution_count": 1,
   "metadata": {},
   "outputs": [
    {
     "name": "stdout",
     "output_type": "stream",
     "text": [
      "120\n",
      "720\n"
     ]
    }
   ],
   "source": [
    "def factorial(a):\n",
    "    fact=1\n",
    "    for i in range(1,a+1):\n",
    "        fact = fact*i\n",
    "    print(fact)    \n",
    "\n",
    "factorial(5)   \n",
    "factorial(6)"
   ]
  },
  {
   "cell_type": "markdown",
   "metadata": {},
   "source": [
    "2. Procedure to generate multiplication tables. \n",
    "\n",
    "      MT(3, 5, 7) -> 3 X 5 = 15\n",
    "\n",
    "                               3 X 6 = 18\n",
    "\n",
    "                               3 X 7 = 21"
   ]
  },
  {
   "cell_type": "code",
   "execution_count": 2,
   "metadata": {},
   "outputs": [
    {
     "name": "stdout",
     "output_type": "stream",
     "text": [
      "3 * 5 = 15\n",
      "3 * 6 = 18\n",
      "3 * 7 = 21\n"
     ]
    }
   ],
   "source": [
    "def mt(a, b, c):\n",
    "    for i in range(b,c+1):\n",
    "        print(a,\"*\",i,\"=\",a*i)\n",
    "        \n",
    "mt(3, 5, 7)"
   ]
  },
  {
   "cell_type": "markdown",
   "metadata": {},
   "source": [
    "3. Procedure to print the list of factors of a given number.\n",
    "\n",
    "        FactorList(6)  ->  1 2 3 6\n",
    "\n",
    "        FactorList (9) ->   1 3 9\n",
    "\n",
    "        FactorList (19) ->  1  19"
   ]
  },
  {
   "cell_type": "code",
   "execution_count": 7,
   "metadata": {},
   "outputs": [
    {
     "name": "stdout",
     "output_type": "stream",
     "text": [
      "factors of 6 :\n",
      "1 2 3 6 \n",
      "\n",
      "factors of 9 :\n",
      "1 3 9 \n",
      "\n",
      "factors of 19 :\n",
      "1 19 \n",
      "\n"
     ]
    }
   ],
   "source": [
    "def factorlist(a):\n",
    "    print(\"factors of\",a,':')\n",
    "    for i in range(1,a+1):\n",
    "        if a % i == 0:\n",
    "            print(i,\"\",end=\"\")\n",
    "    print('\\n')\n",
    "factorlist(6)\n",
    "factorlist(9)\n",
    "factorlist(19)\n",
    "       "
   ]
  },
  {
   "cell_type": "markdown",
   "metadata": {},
   "source": [
    "4. Procedure to check if a given number is Prime and returns a Boolean value.\n",
    "\n",
    "         IsPrime(7) -> True\n",
    "\n",
    "         IsPrime(9) ->  False"
   ]
  },
  {
   "cell_type": "code",
   "execution_count": 9,
   "metadata": {},
   "outputs": [
    {
     "name": "stdout",
     "output_type": "stream",
     "text": [
      "True\n",
      "False\n"
     ]
    }
   ],
   "source": [
    "def isprime(a):\n",
    "    count=1\n",
    "    for i in range(1,a):\n",
    "        if a % i == 0:\n",
    "            count=count+1\n",
    "    if count > 2:\n",
    "        print('False')\n",
    "    else:\n",
    "        print('True')\n",
    "        \n",
    "isprime(7)  \n",
    "isprime(9)\n",
    "        "
   ]
  },
  {
   "cell_type": "markdown",
   "metadata": {},
   "source": [
    "5. Procedure to count the number of digits in a given number.\n",
    "\n",
    "          CountDigits(123456) ->  6\n",
    "\n",
    "          CountDigits (0) ->  1\n",
    "\n"
   ]
  },
  {
   "cell_type": "code",
   "execution_count": 2,
   "metadata": {},
   "outputs": [
    {
     "name": "stdout",
     "output_type": "stream",
     "text": [
      "7\n",
      "1\n"
     ]
    }
   ],
   "source": [
    "def countdigits(n):\n",
    "    count = 0\n",
    "    if n==0:\n",
    "        count += 1\n",
    "    else:\n",
    "        while(n > 0):\n",
    "            n = int(n / 10)\n",
    "            ###print(a)\n",
    "            count += 1\n",
    "    print(count)\n",
    "\n",
    "countdigits(8745607)\n",
    "countdigits(0)"
   ]
  },
  {
   "cell_type": "markdown",
   "metadata": {},
   "source": [
    "6. Procedure to check if a given number is a Perfect Number. ( Perfect number is a number for which the sum of all it's divisors is equal to the number itself)\n",
    "\n",
    "\n",
    "\n",
    "          IsPerfect(3) -> False\n",
    "\n",
    "          IsPerfect (6) -> True"
   ]
  },
  {
   "cell_type": "code",
   "execution_count": 3,
   "metadata": {},
   "outputs": [
    {
     "name": "stdout",
     "output_type": "stream",
     "text": [
      "factors of 496\n",
      "1\n",
      "2\n",
      "4\n",
      "8\n",
      "16\n",
      "31\n",
      "62\n",
      "124\n",
      "248\n",
      "sum: 496\n"
     ]
    },
    {
     "data": {
      "text/plain": [
       "True"
      ]
     },
     "execution_count": 3,
     "metadata": {},
     "output_type": "execute_result"
    }
   ],
   "source": [
    "def Isperfect(a):\n",
    "    sum=0\n",
    "    print('factors of',a)\n",
    "    for i in range(1,a):\n",
    "        if a%i==0:\n",
    "            print(i)\n",
    "            sum +=i\n",
    "    print('sum:',sum)\n",
    "    if sum==a:\n",
    "        return True\n",
    "    else:\n",
    "        return False\n",
    "\n",
    "\n",
    "Isperfect(496)"
   ]
  },
  {
   "cell_type": "markdown",
   "metadata": {},
   "source": [
    "7. Procedure to generate the first N perfect numbers. \n",
    "\n",
    "          GeneratePerfect(2) ->  6   28\n",
    "\n",
    "          GeneratePerfect (4) ->  6   28   496    8128"
   ]
  },
  {
   "cell_type": "code",
   "execution_count": null,
   "metadata": {},
   "outputs": [
    {
     "name": "stdout",
     "output_type": "stream",
     "text": [
      "6\n",
      "28\n",
      "496\n",
      "8128\n"
     ]
    }
   ],
   "source": [
    "def generateperfect(a):\n",
    "    n = 1\n",
    "    count = 0\n",
    "    while count < a :\n",
    "        sum = 0\n",
    "        for i in range(1,n):\n",
    "            if n % i == 0:\n",
    "                sum += i\n",
    "        if sum == n:\n",
    "            print(n)\n",
    "            count +=1\n",
    "        n += 1\n",
    "        \n",
    "generateperfect(5)\n",
    "    "
   ]
  },
  {
   "cell_type": "code",
   "execution_count": null,
   "metadata": {},
   "outputs": [],
   "source": []
  },
  {
   "cell_type": "code",
   "execution_count": null,
   "metadata": {},
   "outputs": [],
   "source": []
  },
  {
   "cell_type": "code",
   "execution_count": null,
   "metadata": {},
   "outputs": [],
   "source": []
  }
 ],
 "metadata": {
  "kernelspec": {
   "display_name": "Python 3",
   "language": "python",
   "name": "python3"
  },
  "language_info": {
   "codemirror_mode": {
    "name": "ipython",
    "version": 3
   },
   "file_extension": ".py",
   "mimetype": "text/x-python",
   "name": "python",
   "nbconvert_exporter": "python",
   "pygments_lexer": "ipython3",
   "version": "3.7.3"
  }
 },
 "nbformat": 4,
 "nbformat_minor": 2
}
