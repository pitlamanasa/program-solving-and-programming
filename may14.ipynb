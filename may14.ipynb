{
 "cells": [
  {
   "cell_type": "markdown",
   "metadata": {},
   "source": [
    "# Hackathon - Phase 1\n",
    "\n",
    "\n",
    "\n",
    "\n",
    "\n",
    "\n",
    "1. For a given integer N, find the total number of  Non - Prime Factors in the range (1, N) (both exclusive) that do not contain the digit 0\n",
    "\n",
    "nonPrimeFactorsCount( 100 ) -> 2\n",
    "\n",
    "nonPrimeFactorsCount( 50 )  ->  1\n"
   ]
  },
  {
   "cell_type": "code",
   "execution_count": 17,
   "metadata": {},
   "outputs": [
    {
     "name": "stdout",
     "output_type": "stream",
     "text": [
      "6\n",
      "15\n",
      "25\n",
      "75\n"
     ]
    },
    {
     "data": {
      "text/plain": [
       "4"
      ]
     },
     "execution_count": 17,
     "metadata": {},
     "output_type": "execute_result"
    }
   ],
   "source": [
    "def nonprimefact(a):\n",
    "    b = []\n",
    "    for i in range(1,a+1):\n",
    "        if(a % i == 0):\n",
    "            count = 0\n",
    "            for j in range(1,i+1):\n",
    "                if(i % j == 0):\n",
    "                    count += 1\n",
    "                else:\n",
    "                    continue\n",
    "            if(count > 2 and (i % 10 != 0)):\n",
    "                b.append(i)\n",
    "                print(i)\n",
    "    return(len(b))\n",
    "\n",
    "nonprimefact(150)"
   ]
  },
  {
   "cell_type": "markdown",
   "metadata": {},
   "source": [
    "2. For a given integer N. Find the least positive integer X made up of only 9's and 0's, such that, X is a multiple of N.\n",
    "\n",
    "\n",
    "X is made up of one or more occurrences of 9 and zero or more occurrences of 0.\n",
    "\n",
    "\n",
    "Multiple( 5 )  -> 90\n",
    "\n",
    "Multiple ( 7 )  -> 9009\n",
    "\n",
    "Multiple( 1 )  -> 9\n"
   ]
  },
  {
   "cell_type": "code",
   "execution_count": 17,
   "metadata": {},
   "outputs": [
    {
     "name": "stdout",
     "output_type": "stream",
     "text": [
      "9009\n"
     ]
    }
   ],
   "source": [
    "a=True\n",
    "i=1\n",
    "k=7\n",
    "while(a == True):   \n",
    "    mul=i*k\n",
    "    ###print(mul,'\\n')\n",
    "    j=mul\n",
    "    count=0\n",
    "    c=0\n",
    "    while j:\n",
    "        dig = j % 10\n",
    "        ###print(dig,'',end='')\n",
    "        if(dig == 9 or dig == 0):\n",
    "            c += 1\n",
    "        j = j // 10\n",
    "        count += 1\n",
    "    i += 1\n",
    "    if(count==c):\n",
    "        print(mul)\n",
    "        a=False\n",
    "\n",
    "        \n",
    "        \n",
    "        "
   ]
  },
  {
   "cell_type": "code",
   "execution_count": 23,
   "metadata": {},
   "outputs": [
    {
     "name": "stdout",
     "output_type": "stream",
     "text": [
      "9009\n"
     ]
    },
    {
     "data": {
      "text/plain": [
       "90"
      ]
     },
     "execution_count": 23,
     "metadata": {},
     "output_type": "execute_result"
    }
   ],
   "source": [
    "def multiple(k):\n",
    "    a = True\n",
    "    i = 1\n",
    "    while(a == True):   \n",
    "        mul=i*k\n",
    "        ###print(mul,'\\n')\n",
    "        j=mul\n",
    "        count=0\n",
    "        c=0\n",
    "        while j:\n",
    "            dig = j % 10\n",
    "            ###print(dig,'',end='')\n",
    "            if(dig == 9 or dig == 0):\n",
    "                c += 1\n",
    "            j = j // 10\n",
    "            count += 1\n",
    "        i += 1\n",
    "        if(count==c):\n",
    "            ###print(mul)\n",
    "            a=False\n",
    "    return mul\n",
    "\n",
    "print(multiple(7))\n",
    "multiple(5)"
   ]
  },
  {
   "cell_type": "code",
   "execution_count": null,
   "metadata": {},
   "outputs": [],
   "source": []
  }
 ],
 "metadata": {
  "kernelspec": {
   "display_name": "Python 3",
   "language": "python",
   "name": "python3"
  },
  "language_info": {
   "codemirror_mode": {
    "name": "ipython",
    "version": 3
   },
   "file_extension": ".py",
   "mimetype": "text/x-python",
   "name": "python",
   "nbconvert_exporter": "python",
   "pygments_lexer": "ipython3",
   "version": "3.7.3"
  }
 },
 "nbformat": 4,
 "nbformat_minor": 2
}
