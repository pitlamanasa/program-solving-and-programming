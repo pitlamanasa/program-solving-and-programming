{
 "cells": [
  {
   "cell_type": "markdown",
   "metadata": {},
   "source": [
    "# Problem Set\n",
    "\n",
    "\n",
    "1.  Consider the following algorithm to generate a sequence of numbers. Start with an integer n. If n is even, divide by 2. If n is odd, multiply by 3 and add 1. Repeat this process with the new value of n, terminating when n = 1. For example, the following sequence of numbers will be generated for n = 22:\n",
    "\n",
    "22 11 34 17 52 26 13 40 20 10 5 16 8 4 2 1\n",
    "\n",
    "It is conjectured (but not yet proven) that this algorithm will terminate at n = 1 for every integer n. Still, the conjecture holds for all integers up to at least 1, 000, 000. For an input n, the cycle-length of n is the number of numbers generated up to and including the 1. In the example above, the cycle length of 22 is 16. Given any two numbers i and j, you are to determine the maximum cycle length over all numbers between i and j, including both endpoints.\n",
    "\n"
   ]
  },
  {
   "cell_type": "code",
   "execution_count": 11,
   "metadata": {},
   "outputs": [
    {
     "name": "stdout",
     "output_type": "stream",
     "text": [
      "10 2\n",
      "5 3\n",
      "16 4\n",
      "8 5\n",
      "4 6\n",
      "2 7\n",
      "1 8\n"
     ]
    }
   ],
   "source": [
    "mini = 1\n",
    "maxi = 3\n",
    "count = 1\n",
    "while(maxi > 1):    \n",
    "    if(maxi % 2 ==0):\n",
    "        maxi = maxi // 2\n",
    "    else:\n",
    "        maxi = (maxi*3)+1\n",
    "    count += 1  \n",
    "    print(maxi,count)\n",
    "    "
   ]
  },
  {
   "cell_type": "code",
   "execution_count": 27,
   "metadata": {},
   "outputs": [
    {
     "name": "stdout",
     "output_type": "stream",
     "text": [
      "3 1\n",
      "10 2\n",
      "5 3\n",
      "16 4\n",
      "8 5\n",
      "4 6\n",
      "2 7\n",
      "1 8\n"
     ]
    }
   ],
   "source": [
    "maxi = 3\n",
    "count=1\n",
    "while(maxi > 1):\n",
    "    print(maxi,count)\n",
    "    if(maxi % 2 ==0):\n",
    "        maxi = maxi // 2\n",
    "    else:\n",
    "        maxi = (maxi*3)+1\n",
    "    count += 1  \n",
    "    ###print(maxi,count)\n",
    "print(maxi,count)"
   ]
  },
  {
   "cell_type": "code",
   "execution_count": 26,
   "metadata": {},
   "outputs": [
    {
     "data": {
      "text/plain": [
       "174"
      ]
     },
     "execution_count": 26,
     "metadata": {},
     "output_type": "execute_result"
    }
   ],
   "source": [
    "def countnum(maxi):\n",
    "    count=1\n",
    "    while(maxi > 1):\n",
    "        ###print(maxi,count)\n",
    "        if(maxi % 2 ==0):\n",
    "            maxi = maxi // 2\n",
    "        else:\n",
    "            maxi = (maxi*3)+1\n",
    "        count += 1  \n",
    "        ###print(maxi,count)\n",
    "    ###print(maxi,count)\n",
    "    return count\n",
    "\n",
    "def mainsolution(i,j):\n",
    "    lenlist=[countnum(k) for k in range(i,j+1)]\n",
    "    return max(lenlist)\n",
    "\n",
    "\n",
    "mainsolution(900,1000)"
   ]
  },
  {
   "cell_type": "code",
   "execution_count": null,
   "metadata": {},
   "outputs": [],
   "source": []
  },
  {
   "cell_type": "code",
   "execution_count": null,
   "metadata": {},
   "outputs": [],
   "source": []
  },
  {
   "cell_type": "code",
   "execution_count": null,
   "metadata": {},
   "outputs": [],
   "source": []
  },
  {
   "cell_type": "code",
   "execution_count": null,
   "metadata": {},
   "outputs": [],
   "source": []
  }
 ],
 "metadata": {
  "kernelspec": {
   "display_name": "Python 3",
   "language": "python",
   "name": "python3"
  },
  "language_info": {
   "codemirror_mode": {
    "name": "ipython",
    "version": 3
   },
   "file_extension": ".py",
   "mimetype": "text/x-python",
   "name": "python",
   "nbconvert_exporter": "python",
   "pygments_lexer": "ipython3",
   "version": "3.7.3"
  }
 },
 "nbformat": 4,
 "nbformat_minor": 2
}
