{
 "cells": [
  {
   "cell_type": "markdown",
   "metadata": {},
   "source": [
    "Problem 1:\n",
    "    \n",
    "Problem Statement: Define a function to demonstrate number of days in different months.\n",
    "Constraints:\n",
    "    \n",
    "Test Cases:\n",
    "    \n",
    "Test case 1:numDaysInMonth(12) -> 31\n",
    "\n",
    "\n"
   ]
  },
  {
   "cell_type": "code",
   "execution_count": 1,
   "metadata": {},
   "outputs": [
    {
     "data": {
      "text/plain": [
       "31"
      ]
     },
     "execution_count": 1,
     "metadata": {},
     "output_type": "execute_result"
    }
   ],
   "source": [
    "def dateDifference(date1,date2):\n",
    "    return\n",
    "\n",
    "def daysInFeb(year):\n",
    "    if((year%400==0)or((year%100!=0)and(year%4==0))):\n",
    "        return 29\n",
    "    return 28\n",
    "def numDaysInMonth(month):\n",
    "    monthDays={'01':31,'03':31,'04':30,'05':31,'06':30,'07':31,'08':31,'09':30,'10':31,'11':30,'12':31}\n",
    "    if(month<7 and month!=2 and month%2==0) or (month>7 and month%2!=0):\n",
    "         return 30\n",
    "    else:\n",
    "        return 31\n",
    "    \n",
    "numDaysInMonth(12)"
   ]
  },
  {
   "cell_type": "code",
   "execution_count": null,
   "metadata": {},
   "outputs": [],
   "source": []
  }
 ],
 "metadata": {
  "kernelspec": {
   "display_name": "Python 3",
   "language": "python",
   "name": "python3"
  },
  "language_info": {
   "codemirror_mode": {
    "name": "ipython",
    "version": 3
   },
   "file_extension": ".py",
   "mimetype": "text/x-python",
   "name": "python",
   "nbconvert_exporter": "python",
   "pygments_lexer": "ipython3",
   "version": "3.7.3"
  }
 },
 "nbformat": 4,
 "nbformat_minor": 2
}
