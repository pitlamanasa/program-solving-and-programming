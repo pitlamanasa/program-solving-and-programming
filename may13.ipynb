{
 "cells": [
  {
   "cell_type": "markdown",
   "metadata": {},
   "source": [
    "3 .  Define a function that take an array of integers A, and an integer K and returns the longest possible sub-set of A i.e A' such that the sum of no two elements in A' is divisible by K.\n",
    "\n",
    "First line in input contains the length of A and the integer K. Second line of input contains len(A) space-separated integers.\n",
    "\n",
    "Output must contain the length of A' list\n",
    "\n",
    "Sample Input :    4  3\n",
    "\n",
    "1 7 2 4\n",
    "\n",
    "Sample Output : 3\n"
   ]
  },
  {
   "cell_type": "code",
   "execution_count": 1,
   "metadata": {},
   "outputs": [
    {
     "name": "stdout",
     "output_type": "stream",
     "text": [
      "[2, 4, 5, 7, 8, 9] 0\n",
      "2 4\n",
      "2 5\n",
      "2 7\n",
      "2 8\n",
      "[2, 4, 5, 7, 8, 9]\n",
      "4 5\n",
      "4 7\n",
      "4 8\n",
      "removed 8\n",
      "[2, 4, 5, 7, 9]\n",
      "5 7\n",
      "removed 7\n",
      "[2, 4, 5, 9]\n",
      "[2, 4, 5, 9]\n",
      "[2, 4, 5, 9]\n",
      "[2, 4, 5, 9]\n",
      "[2, 4, 5, 9]\n"
     ]
    }
   ],
   "source": [
    "k=4\n",
    "A=[2,4,5,7,8,9]\n",
    "b=[]\n",
    "c=[]\n",
    "n=len(A)\n",
    "print(A,len(b))\n",
    "for i in range(len(A)):\n",
    "    for j in range(i+1,len(A)-1):\n",
    "        print(A[i],A[j])\n",
    "        if((A[i] + A[j]) % k == 0) :\n",
    "            print('removed',A[j])\n",
    "            A.remove(A[j])\n",
    "            c.append(A[j])\n",
    "        else:\n",
    "            continue\n",
    "    print(A)\n",
    "print(A)            "
   ]
  },
  {
   "cell_type": "code",
   "execution_count": 26,
   "metadata": {},
   "outputs": [
    {
     "name": "stdout",
     "output_type": "stream",
     "text": [
      "4 + 8 = 12 is divisible by 4\n",
      "removed 8\n",
      "5 + 7 = 12 is divisible by 4\n",
      "removed 7\n"
     ]
    },
    {
     "data": {
      "text/plain": [
       "[2, 4, 5, 9]"
      ]
     },
     "execution_count": 26,
     "metadata": {},
     "output_type": "execute_result"
    }
   ],
   "source": [
    "def longsubset(A,k):\n",
    "    for i in range(len(A)):\n",
    "        for j in range(i+1,len(A)):              \n",
    "                if((A[i] + A[j]) % k == 0) :\n",
    "                    print(A[i],'+',A[j],'=',(A[i]+A[j]),\"is divisible by\",k)\n",
    "                    print('removed',A[j])\n",
    "                    A.remove(A[j])\n",
    "                    break\n",
    "        ###print(A)\n",
    "    return A  \n",
    "\n",
    "longsubset([2,4,5,7,8,9],4)"
   ]
  },
  {
   "cell_type": "code",
   "execution_count": null,
   "metadata": {},
   "outputs": [],
   "source": []
  },
  {
   "cell_type": "code",
   "execution_count": null,
   "metadata": {},
   "outputs": [],
   "source": []
  }
 ],
 "metadata": {
  "kernelspec": {
   "display_name": "Python 3",
   "language": "python",
   "name": "python3"
  },
  "language_info": {
   "codemirror_mode": {
    "name": "ipython",
    "version": 3
   },
   "file_extension": ".py",
   "mimetype": "text/x-python",
   "name": "python",
   "nbconvert_exporter": "python",
   "pygments_lexer": "ipython3",
   "version": "3.7.3"
  }
 },
 "nbformat": 4,
 "nbformat_minor": 2
}
