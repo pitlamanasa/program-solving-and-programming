{
 "cells": [
  {
   "cell_type": "markdown",
   "metadata": {},
   "source": [
    "# 1. Solve the following problems using Recursion and Iteration\n",
    "\n",
    "     Power of a number\n",
    "\n"
   ]
  },
  {
   "cell_type": "code",
   "execution_count": 1,
   "metadata": {},
   "outputs": [
    {
     "data": {
      "text/plain": [
       "8"
      ]
     },
     "execution_count": 1,
     "metadata": {},
     "output_type": "execute_result"
    }
   ],
   "source": [
    "def recursive(n, r):\n",
    "    if r == 1:\n",
    "        return n\n",
    "    else:\n",
    "        return recursive(n, r-1) * n\n",
    "\n",
    "recursive(2,3)"
   ]
  },
  {
   "cell_type": "markdown",
   "metadata": {},
   "source": [
    "# Factorial"
   ]
  },
  {
   "cell_type": "code",
   "execution_count": 2,
   "metadata": {},
   "outputs": [
    {
     "data": {
      "text/plain": [
       "24"
      ]
     },
     "execution_count": 2,
     "metadata": {},
     "output_type": "execute_result"
    }
   ],
   "source": [
    "def factorial(a):\n",
    "    if a == 1:\n",
    "        return a\n",
    "    else:\n",
    "        return factorial(a-1)*a\n",
    "\n",
    "factorial(4)"
   ]
  },
  {
   "cell_type": "markdown",
   "metadata": {},
   "source": [
    "GCD"
   ]
  },
  {
   "cell_type": "code",
   "execution_count": 11,
   "metadata": {},
   "outputs": [
    {
     "data": {
      "text/plain": [
       "12"
      ]
     },
     "execution_count": 11,
     "metadata": {},
     "output_type": "execute_result"
    }
   ],
   "source": [
    "def gcd(a, b):\n",
    "    if b % a == 0:\n",
    "        return a\n",
    "    else:\n",
    "        return gcd(b % a, a)\n",
    "\n",
    "gcd(12,36)"
   ]
  },
  {
   "cell_type": "markdown",
   "metadata": {},
   "source": [
    "Towers of Hanoi"
   ]
  },
  {
   "cell_type": "code",
   "execution_count": 4,
   "metadata": {},
   "outputs": [
    {
     "name": "stdout",
     "output_type": "stream",
     "text": [
      "move 1 disk from  a to c\n",
      "move 2 disk from  a to b\n",
      "move 1 disk from  c to b\n",
      "move 3 disk from  a to c\n",
      "move 1 disk from  b to a\n",
      "move 2 disk from  b to c\n",
      "move 1 disk from  a to c\n"
     ]
    }
   ],
   "source": [
    "def tohanoi(n, source, temp, dest):\n",
    "    if n==1:\n",
    "        print(\"move\",n,\"disk from \",source,\"to\", dest)\n",
    "        return\n",
    "    else:\n",
    "        tohanoi(n-1,source,dest,temp)\n",
    "        print(\"move\",n,\"disk from \",source,\"to\", dest)\n",
    "        tohanoi(n-1,temp,source,dest)\n",
    "        return\n",
    "    \n",
    "tohanoi(3,'a','b','c')"
   ]
  },
  {
   "cell_type": "code",
   "execution_count": 7,
   "metadata": {},
   "outputs": [
    {
     "name": "stdout",
     "output_type": "stream",
     "text": [
      "0\n",
      "1\n",
      "1\n",
      "2\n",
      "3\n",
      "5\n",
      "8\n",
      "13\n",
      "21\n",
      "34\n"
     ]
    }
   ],
   "source": [
    "def fib(a):\n",
    "    if a == 0:\n",
    "        return 0\n",
    "    elif a==1:\n",
    "        return 1\n",
    "    else:\n",
    "        return (fib(a-1) + fib(a-2))    \n",
    "    \n",
    "    \n",
    "for i in range(10):\n",
    "    print(fib(i))\n",
    "    "
   ]
  },
  {
   "cell_type": "markdown",
   "metadata": {},
   "source": [
    "# 2. Define a function to identity the number of times a substring is repeating in a given string\n",
    "\n",
    "substringCount('str', 'substr') -> 1\n",
    "\n",
    "substringCount('1234567891122334455', '3') -> 3\n",
    "\n",
    "substringCount('abccddccc', 'cc') -> 3\n",
    "\n",
    "substringCount('aaaaaaa', 'aaa' ) -> 5\n"
   ]
  },
  {
   "cell_type": "code",
   "execution_count": 23,
   "metadata": {},
   "outputs": [
    {
     "name": "stdout",
     "output_type": "stream",
     "text": [
      "1\n"
     ]
    }
   ],
   "source": [
    "x='substr'\n",
    "y='str'\n",
    "count=0\n",
    "for i in range(0,len(x)):\n",
    "    j=0\n",
    "    ###print(x[i])\n",
    "    if x[i]==y[j] :\n",
    "        for k in range(i,len(y)+i):\n",
    "            ###print(k,j,len(y)+i)\n",
    "            if(len(y)+i <= len(x)):\n",
    "                if x[k] == y[j] :\n",
    "                    ###print(k,x[k],j,y[j])\n",
    "                    j += 1\n",
    "                    ###print(j)\n",
    "                ###if(k >= len(x)):\n",
    "                ###break\n",
    "        if(j==len(y)):\n",
    "            count += 1\n",
    "print(count)\n",
    "    \n",
    "    "
   ]
  },
  {
   "cell_type": "code",
   "execution_count": 30,
   "metadata": {},
   "outputs": [
    {
     "name": "stdout",
     "output_type": "stream",
     "text": [
      "1\n",
      "3\n",
      "3\n",
      "5\n"
     ]
    }
   ],
   "source": [
    "def substringCount(x,y):\n",
    "    count=0\n",
    "    for i in range(0,len(x)):\n",
    "        j=0\n",
    "        if x[i]==y[j] :\n",
    "            for k in range(i,len(y)+i):\n",
    "                if(len(y)+i <= len(x)):\n",
    "                    if x[k] == y[j] :\n",
    "                        j += 1                      \n",
    "            if(j==len(y)):\n",
    "                count += 1\n",
    "    print(count)\n",
    "\n",
    "substringCount('substr', 'str')\n",
    "substringCount('1234567891122334455', '3')\n",
    "substringCount('abccddccc', 'cc')\n",
    "substringCount('aaaaaaa', 'aaa' )"
   ]
  },
  {
   "cell_type": "markdown",
   "metadata": {},
   "source": [
    "3. Define a function to merge the characters of two strings alternatively. The remaining characters\n",
    "\n",
    "     of the longer string are printed in the same order at the end.\n",
    "\n",
    "mergeString('abcd', 'abcd') -> 'aabbccdd'\n",
    "\n",
    "mergeString('abc', '123456') -> 'a1b2c3456'\n",
    "\n",
    "mergeString('0', '123456') -> '0123456'\n"
   ]
  },
  {
   "cell_type": "code",
   "execution_count": 32,
   "metadata": {},
   "outputs": [
    {
     "name": "stdout",
     "output_type": "stream",
     "text": [
      " aabbccdd\n",
      " a1b2c3456\n",
      " 0123456\n"
     ]
    }
   ],
   "source": [
    "def mergeString(a,b):\n",
    "    c = ' '\n",
    "    j=0\n",
    "    if len(a) > len(b):\n",
    "        for i in range(0,len(b)):\n",
    "            c += a[i]\n",
    "            c += b[i]\n",
    "        for i in range(len(b),len(a)):\n",
    "            c += a[i]\n",
    "    if len(a) <= len(b):\n",
    "        for i in range(0,len(a)):\n",
    "            c += a[i]\n",
    "            c += b[i]\n",
    "            ###print(a[i],b[i])\n",
    "        for i in range(len(a),len(b)):\n",
    "            c += b[i]\n",
    "    print(c)\n",
    "\n",
    "mergeString('abcd', 'abcd')\n",
    "mergeString('abc','123456')\n",
    "mergeString('0', '123456') "
   ]
  },
  {
   "cell_type": "markdown",
   "metadata": {},
   "source": [
    "4. Define a function to convert a binary number to the corresponding decimal number\n",
    "\n",
    "binaryToDecimal(1100) -> 12\n",
    "\n",
    "binaryToDecimal(1010) -> 10\n",
    "\n",
    "binaryToDecimal(111000) -> 56"
   ]
  },
  {
   "cell_type": "code",
   "execution_count": 80,
   "metadata": {},
   "outputs": [
    {
     "name": "stdout",
     "output_type": "stream",
     "text": [
      "12\n",
      "10\n",
      "56\n"
     ]
    }
   ],
   "source": [
    "def bintodec(a):\n",
    "    i=0\n",
    "    sum=0\n",
    "    while a:\n",
    "        digit = a % 10\n",
    "        power = pow(2,i)\n",
    "        sum += digit * power\n",
    "        ###print(digit)\n",
    "        a = a//10\n",
    "        i += 1\n",
    "    print(sum)   \n",
    "    ###print(int(a,2))\n",
    "    \n",
    "bintodec(1100)\n",
    "bintodec(1010)\n",
    "bintodec(111000)\n"
   ]
  },
  {
   "cell_type": "markdown",
   "metadata": {},
   "source": [
    "5. Define a function to convert a decimal number to the corresponding binary number\n",
    "\n",
    "decimalToBinary(15) -> 1111\n",
    "\n",
    "decimalToBinary(1) -> 1\n"
   ]
  },
  {
   "cell_type": "code",
   "execution_count": 105,
   "metadata": {},
   "outputs": [
    {
     "name": "stdout",
     "output_type": "stream",
     "text": [
      "1111\n",
      "\n",
      "1010\n",
      "\n",
      "1\n",
      "\n",
      "111000\n",
      "\n"
     ]
    }
   ],
   "source": [
    "def dectobin(a):\n",
    "    b=' '\n",
    "    while(a > 0):\n",
    "        b += str( a % 2)\n",
    "        a=a//2\n",
    "    for i in range(len(b)-1,0,-1):\n",
    "        print(b[i],end='')\n",
    "    print('\\n')\n",
    "    \n",
    "dectobin(15)   \n",
    "dectobin(10)  \n",
    "dectobin(1)  \n",
    "dectobin(56)    "
   ]
  },
  {
   "cell_type": "markdown",
   "metadata": {},
   "source": [
    "6. Define a function to check if a given year is a leap year. Returns a boolean value\n",
    "\n",
    "2000 -> True\n",
    "\n",
    "1900 -> False\n",
    "\n",
    "2012 -> True\n",
    "\n",
    "2020 -> True\n",
    "\n",
    "0200 -> False"
   ]
  },
  {
   "cell_type": "code",
   "execution_count": 62,
   "metadata": {},
   "outputs": [
    {
     "data": {
      "text/plain": [
       "True"
      ]
     },
     "execution_count": 62,
     "metadata": {},
     "output_type": "execute_result"
    }
   ],
   "source": [
    "def leapyear(a):\n",
    "    if a % 4 == 0:\n",
    "        if a % 100 == 0:\n",
    "            if a % 400 ==0:\n",
    "                return True\n",
    "            else:\n",
    "                return False\n",
    "        else:\n",
    "            return True\n",
    "    else:\n",
    "        return False\n",
    "\n",
    "leapyear(2012)   "
   ]
  },
  {
   "cell_type": "markdown",
   "metadata": {},
   "source": [
    "8. Define a function to find the average of all the outer elements of an N x M matrix.\n",
    "\n",
    "averageOuterMatrix([[1, 2, 3], [4, 5, 6], [7, 8, 9], [10, 11, 12]] -> 6.5"
   ]
  },
  {
   "cell_type": "code",
   "execution_count": 50,
   "metadata": {},
   "outputs": [
    {
     "name": "stdout",
     "output_type": "stream",
     "text": [
      "1\n",
      "1\n",
      "average: 2.5\n"
     ]
    }
   ],
   "source": [
    "def avgoutmat(a):\n",
    "    sum = 0\n",
    "    count=0\n",
    "    for x in a:\n",
    "        print(len(a)-1)\n",
    "        if(a.index(x) == 0 or a.index(x) == len(a)-1):\n",
    "            for i in x:\n",
    "                sum += i\n",
    "                count += 1\n",
    "        else:\n",
    "            for i in x:\n",
    "                if(x.index(i) == 0 or x.index(i) == len(x)-1):\n",
    "                    sum += i\n",
    "                    count += 1\n",
    "    print('average:',sum/count)\n",
    "\n",
    "\n",
    "\n",
    "avgoutmat([[1,2], [3,4]])\n"
   ]
  },
  {
   "cell_type": "markdown",
   "metadata": {},
   "source": [
    "9. Define a function to print the sequence of spiral pattern elements for a given N x N matrix\n",
    "\n",
    "spiralPattern([[1,2,3], [4,5,6], [7,8,9]]) -> 1 2 3 6 9 8 7 4 5"
   ]
  },
  {
   "cell_type": "code",
   "execution_count": 15,
   "metadata": {},
   "outputs": [
    {
     "name": "stdout",
     "output_type": "stream",
     "text": [
      "1 2 3 6 9 8 7 4 5 \n",
      "\n",
      "1 2 3 4 5 8 11 11 16 15 14 13 12 10 7 4 5 6 7 10 9 7 4 8 9 "
     ]
    }
   ],
   "source": [
    "\n",
    "def spiralpatt(c):\n",
    "    for i in range(0,len(c)-1):\n",
    "        for top in range(i,len(c)-i):\n",
    "            print(c[i][top],'',end='')\n",
    "        for  right in range(i + 1,(len(c)-1) - i):\n",
    "            print(c[right][(len(c)-1) - i],'',end='')\n",
    "        for bottom in range((len(c)-1) - i,i,-1):\n",
    "            print(c[(len(c)-1) - i][bottom],'',end='')\n",
    "        for left in range((len(c)-1) - i,i,-1):\n",
    "            print(c[left][i],'',end='')   \n",
    "    \n",
    "        \n",
    "        \n",
    "spiralpatt([[1,2,3], [4,5,6], [7,8,9]])\n",
    "print('\\n')\n",
    "spiralpatt([[1,2,3,4,5], [4,5,6,7,8], [7,8,9,10,11],[10,4,7,9,11],[12,13,14,15,16]])   "
   ]
  },
  {
   "cell_type": "code",
   "execution_count": null,
   "metadata": {},
   "outputs": [],
   "source": []
  },
  {
   "cell_type": "code",
   "execution_count": null,
   "metadata": {},
   "outputs": [],
   "source": []
  },
  {
   "cell_type": "code",
   "execution_count": null,
   "metadata": {},
   "outputs": [],
   "source": []
  }
 ],
 "metadata": {
  "kernelspec": {
   "display_name": "Python 3",
   "language": "python",
   "name": "python3"
  },
  "language_info": {
   "codemirror_mode": {
    "name": "ipython",
    "version": 3
   },
   "file_extension": ".py",
   "mimetype": "text/x-python",
   "name": "python",
   "nbconvert_exporter": "python",
   "pygments_lexer": "ipython3",
   "version": "3.7.3"
  }
 },
 "nbformat": 4,
 "nbformat_minor": 2
}
