{
 "cells": [
  {
   "cell_type": "markdown",
   "metadata": {},
   "source": [
    "# Problem solving and programming\n"
   ]
  },
  {
   "cell_type": "markdown",
   "metadata": {},
   "source": [
    "define a function to read data from a file "
   ]
  },
  {
   "cell_type": "code",
   "execution_count": 5,
   "metadata": {},
   "outputs": [
    {
     "data": {
      "text/plain": [
       "'sjkdrg lkdfj laksd \\njdfh lsk lk l\\nn ksdfj ;\\nkdj \\nkdjf lksdf ;slk \\nlskjf \\nskldf j ;sld ;sd\\nj hfg kldfj '"
      ]
     },
     "execution_count": 5,
     "metadata": {},
     "output_type": "execute_result"
    }
   ],
   "source": [
    "def readfile(filename):\n",
    "    f = open(filename,'r')\n",
    "    ###filedata = f.readline()\n",
    "    filedata = f.read()\n",
    "    \n",
    "    f.close()\n",
    "    return filedata\n",
    "\n",
    "readfile('python/DataFiles/data.txt')"
   ]
  },
  {
   "cell_type": "code",
   "execution_count": null,
   "metadata": {},
   "outputs": [],
   "source": [
    "\n",
    "with \n",
    "end "
   ]
  },
  {
   "cell_type": "code",
   "execution_count": 21,
   "metadata": {},
   "outputs": [
    {
     "name": "stdout",
     "output_type": "stream",
     "text": [
      "sjkdrg lkdfj laksd \n",
      "jdfh lsk lk l\n",
      "n ksdfj ;\n",
      "kdj \n",
      "kdjf lksdf ;slk \n",
      "lskjf \n",
      "skldf j ;sld ;sd\n",
      "j hfg kldfj \n"
     ]
    }
   ],
   "source": [
    "def readfile(filename):\n",
    "    with open(filename,'r') as f:\n",
    "        ###for line in f:\n",
    "         ###   print(line,end='')\n",
    "        print(f.read())\n",
    "    f.close()\n",
    "    return \n",
    "\n",
    "\n",
    "def writetofile(filename,data):\n",
    "    with open(filename,'w') as f:\n",
    "        f.write(data)\n",
    "    return\n",
    "\n",
    "def appendtofile(filename,data,mode):\n",
    "    with open(filename,mode) as f:\n",
    "        f.write(data)\n",
    "    return\n",
    "\n",
    "readfile('python/DataFiles/data.txt')\n",
    "writetofile('python/DataFiles/writedata.txt','python programming')\n",
    "appendtofile('python/DataFiles/writedata.txt','\\n problem solving skills','a')"
   ]
  },
  {
   "cell_type": "markdown",
   "metadata": {},
   "source": [
    "### problem\n",
    "function to generate a marks data file for 1300 students \n",
    "each marks is entered in a new line\n",
    "marks range from 0 to 100(inclusive) as random numbers\n"
   ]
  },
  {
   "cell_type": "code",
   "execution_count": 29,
   "metadata": {},
   "outputs": [],
   "source": [
    "def appendtofile(filename,data,mode):\n",
    "    with open(filename,mode) as f:\n",
    "        f.write(data)\n",
    "    return\n",
    "\n",
    "import random\n",
    "def generatemarks(noofstud):\n",
    "    for i in range(1,noofstud+1):\n",
    "        x = random.randrange(0,101)\n",
    "        d = str(x)+'\\n'\n",
    "        appendtofile('python/DataFiles/marks.txt',d,'a')\n",
    "    return \n",
    "\n",
    "generatemarks(1300)"
   ]
  },
  {
   "cell_type": "code",
   "execution_count": 34,
   "metadata": {},
   "outputs": [
    {
     "data": {
      "text/plain": [
       "'Finish'"
      ]
     },
     "execution_count": 34,
     "metadata": {},
     "output_type": "execute_result"
    }
   ],
   "source": [
    "import random\n",
    "def generatemarks(noofstud,filename):\n",
    "    with open(filename,'w') as f:\n",
    "        for i in range(1,noofstud+1):\n",
    "            x=random.randrange(0,101)\n",
    "            d=str(x)+'\\n'\n",
    "            f.write(d)\n",
    "    return 'Finish'\n",
    "\n",
    "generatemarks(1300,'python/DataFiles/marks.txt')"
   ]
  },
  {
   "cell_type": "markdown",
   "metadata": {},
   "source": [
    "Problem 2:\n",
    "    \n",
    "generate report on the marks data with the following indicators\n",
    "\n",
    "highest mark\n",
    "\n",
    "lowest mark\n",
    "\n",
    "Average mark\n",
    "\n",
    "no of students with distinction(>80)\n",
    "\n",
    "\"\"first class(>60)\n",
    "\n",
    "second class(>50)\n",
    "\n",
    "third class(>40)\n",
    "\n",
    "no of students failed(<40):"
   ]
  },
  {
   "cell_type": "code",
   "execution_count": 21,
   "metadata": {},
   "outputs": [
    {
     "name": "stdout",
     "output_type": "stream",
     "text": [
      "Highest Marks: 100 \n",
      "\n",
      "Lowest Marks: 0 \n",
      "\n",
      "Average Mark: 50.36923076923077 \n",
      "\n",
      "No of students: 1300\n",
      "\n",
      "No of students with Distinction: 260\n",
      "\n",
      "No of students with First class:  262\n",
      "\n",
      "No of students with Second class:  129\n",
      "\n",
      "No of students with Third class:  144\n",
      "\n",
      "No of students who Failed:  505\n"
     ]
    },
    {
     "data": {
      "text/plain": [
       "0.010656338999979198"
      ]
     },
     "execution_count": 21,
     "metadata": {},
     "output_type": "execute_result"
    }
   ],
   "source": [
    "import timeit\n",
    "def report(filename):\n",
    "    start = timeit.default_timer()\n",
    "    h=Avg=count=sum1=disti=first = second = third = fail = 0\n",
    "    l=100      \n",
    "    with open(filename,'r') as f:\n",
    "        for line in f:\n",
    "            x = int(line)\n",
    "            if(x>h):\n",
    "                h=x\n",
    "            if(x<l):\n",
    "                l=x\n",
    "            if(x >= 80):\n",
    "                disti += 1\n",
    "            if(x >= 60 and x < 80):\n",
    "                first += 1\n",
    "            if(x >= 50 and x < 60):\n",
    "                second += 1\n",
    "            if(x>=40 and x < 50):\n",
    "                third += 1\n",
    "            if(x < 40):\n",
    "                fail += 1\n",
    "            count +=1\n",
    "            sum1 +=x\n",
    "    print('Highest Marks:',h,'\\n\\nLowest Marks:',l,'\\n\\nAverage Mark:',sum1/count,'\\n\\nNo of students:',count)\n",
    "    print(\"\\nNo of students with Distinction:\",disti)\n",
    "    print(\"\\nNo of students with First class: \",first)\n",
    "    print(\"\\nNo of students with Second class: \",second)\n",
    "    print(\"\\nNo of students with Third class: \",third)\n",
    "    print(\"\\nNo of students who Failed: \",fail)\n",
    "    return timeit.default_timer() - start\n",
    "\n",
    "report('DataFiles/marks.txt')\n",
    "###report('python/DataFiles/marks.txt')"
   ]
  },
  {
   "cell_type": "markdown",
   "metadata": {},
   "source": [
    "map()"
   ]
  },
  {
   "cell_type": "code",
   "execution_count": 73,
   "metadata": {},
   "outputs": [
    {
     "name": "stdout",
     "output_type": "stream",
     "text": [
      "['1', '2', '3', '4', '5']\n"
     ]
    }
   ],
   "source": [
    "li = [1,2,3,4,5]\n",
    "s=list(map(str,li))\n",
    "print(s)"
   ]
  },
  {
   "cell_type": "code",
   "execution_count": 22,
   "metadata": {},
   "outputs": [
    {
     "data": {
      "text/plain": [
       "0.0007630729996890295"
      ]
     },
     "execution_count": 22,
     "metadata": {},
     "output_type": "execute_result"
    }
   ],
   "source": [
    "import re, timeit\n",
    "\n",
    "def readfile(filename):\n",
    "    f = open(filename,'r')\n",
    "    ###filedata = f.readline()\n",
    "    filedata = f.read()\n",
    "    \n",
    "    f.close()\n",
    "    return filedata\n",
    "\n",
    "\n",
    "\n",
    "def generatemarksreport(marksfile):\n",
    "    start=timeit.default_timer()\n",
    "    marksdata = readfile(marksfile)\n",
    "    marksdata= re.split(r'\\n', marksdata)\n",
    "    marksdata = list(map(int, marksdata[:len(marksdata)-1]))\n",
    "    ###print(marksdata[2])\n",
    "    ###print(marksdata[len(marksdtata)-2])\n",
    "    ###print(type(marksdata[0]))  \n",
    "    ### print(max(marksdata))\n",
    "    return timeit.default_timer() - start\n",
    "\n",
    "generatemarksreport('DataFiles/marks.txt')   "
   ]
  },
  {
   "cell_type": "code",
   "execution_count": null,
   "metadata": {},
   "outputs": [],
   "source": []
  },
  {
   "cell_type": "code",
   "execution_count": null,
   "metadata": {},
   "outputs": [],
   "source": []
  },
  {
   "cell_type": "code",
   "execution_count": null,
   "metadata": {},
   "outputs": [],
   "source": []
  }
 ],
 "metadata": {
  "kernelspec": {
   "display_name": "Python 3",
   "language": "python",
   "name": "python3"
  },
  "language_info": {
   "codemirror_mode": {
    "name": "ipython",
    "version": 3
   },
   "file_extension": ".py",
   "mimetype": "text/x-python",
   "name": "python",
   "nbconvert_exporter": "python",
   "pygments_lexer": "ipython3",
   "version": "3.7.3"
  }
 },
 "nbformat": 4,
 "nbformat_minor": 2
}
