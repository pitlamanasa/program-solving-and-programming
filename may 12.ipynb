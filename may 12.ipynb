{
 "cells": [
  {
   "cell_type": "markdown",
   "metadata": {},
   "source": [
    "1. You are given n words. Some words may repeat. For each word, output its number of occurrences. The output order should correspond with the input order of appearance of the word. \n",
    "First line of input contains the total number of words n. Next n lines contain words that need to processed.\n",
    "\n",
    "First line of the output should contain the total number distinct words. Second line of output must contain the frequency of words the same order of their appearance as in the input\n",
    "\n",
    "Sample Input :  6\n",
    "\n",
    "abcd\n",
    "\n",
    "ijkl\n",
    "\n",
    "abcd\n",
    "\n",
    "pqrs\n",
    "\n",
    "abcd\n",
    "\n",
    "ijkl\n",
    "\n",
    "Sample Output :   3\n",
    "\n",
    "3  2   1\n",
    "\n"
   ]
  },
  {
   "cell_type": "code",
   "execution_count": 1,
   "metadata": {},
   "outputs": [
    {
     "name": "stdout",
     "output_type": "stream",
     "text": [
      "4\n",
      "3 2 1 1 "
     ]
    }
   ],
   "source": [
    "a=['abcd','ijkl','abcd','pqrs','abcd','ijkl','lmn']\n",
    "b=[]\n",
    "count = 1\n",
    "b.append(a[0])\n",
    "for i in a:\n",
    "    if i not in b:\n",
    "        b.append(i)\n",
    "print(len(b))\n",
    "for i in b:\n",
    "    print(a.count(i),'',end='')"
   ]
  },
  {
   "cell_type": "code",
   "execution_count": 2,
   "metadata": {},
   "outputs": [
    {
     "name": "stdout",
     "output_type": "stream",
     "text": [
      "enter the number of words:6\n",
      "enter val: abcd\n",
      "enter val: ijkl\n",
      "enter val: abcd\n",
      "enter val: pqrs\n",
      "enter val: abcd\n",
      "enter val: ijkl\n",
      "['abcd', 'ijkl', 'abcd', 'pqrs', 'abcd', 'ijkl']\n",
      "3\n",
      "3 2 1 "
     ]
    }
   ],
   "source": [
    "inp = input('enter the number of words:' )\n",
    "a = []\n",
    "for i in range(0,int(inp)):\n",
    "    a.append(input('enter val: '))\n",
    "print(a)\n",
    "b=[]\n",
    "count = 1\n",
    "b.append(a[0])\n",
    "for i in a:\n",
    "    if i not in b:\n",
    "        b.append(i)\n",
    "print(len(b))\n",
    "for i in b:\n",
    "    print(a.count(i),'',end='')\n"
   ]
  },
  {
   "cell_type": "markdown",
   "metadata": {},
   "source": [
    "2. Define a function to validate email addresses based on the following rules.\n",
    "\n",
    "\n",
    "Email should be in the format username@domain.extension\n",
    "username must start with an alphabet and can contain lowercase alphabet, digits, hyphen(-) and underscores( _ ).\n",
    "username must not contain special characters, uppercase letters, whitespaces.\n",
    "Length of username must be in the range (6, 16)\n",
    "Domain can only contain lowercase alphabet and digits with length in range (3, 10) . No special characters are allowed\n",
    "Extension can only contain lower case alphabet and its length must be in the range (2, 4)\n",
    "First line of input contains total number of email addresses n.  Next n lines contain  n email addresses.\n",
    "\n",
    "\n",
    "Output must contain contain  n  lines with either 'Valid' or 'Invalid'\n",
    "\n",
    "\n",
    "Sample Input :  6\n",
    "    \n",
    "\n",
    "abc456@gmail.com\n",
    "\n",
    "\n",
    "456abc@yahoo.com\n",
    "\n",
    "\n",
    "abc_456@gitam.ed1\n",
    "\n",
    "\n",
    "abc-456@abc-d.in\n",
    "\n",
    "\n",
    "python@python.edu\n",
    "\n",
    "\n",
    "abc 456@edu.edu\n",
    "\n",
    "\n",
    "Sample Output :   Valid\n",
    "\n",
    "Invalid\n",
    "\n",
    "Invalid\n",
    "\n",
    "Invalid\n",
    "\n",
    "Valid\n",
    "\n",
    "Invalid\n",
    "\n"
   ]
  },
  {
   "cell_type": "code",
   "execution_count": 1,
   "metadata": {},
   "outputs": [
    {
     "name": "stdout",
     "output_type": "stream",
     "text": [
      "Enter n : \n",
      "6\n",
      "abc456@gmail.com\n",
      "456abc@yahoo.com\n",
      "abc_456@gitam.ed1\n",
      "abc-456@abc-d.in\n",
      "python@python.edu\n",
      "abc 456@edu.edu\n",
      "Valid\n",
      "Invalid\n",
      "Invalid\n",
      "Invalid\n",
      "Valid\n",
      "Invalid\n"
     ]
    }
   ],
   "source": [
    "def check_username(username):\n",
    "    l = len(username)\n",
    "    if l<6 or l>16:\n",
    "        return False\n",
    "    if lowercase_letters.count(username[0]) == 0:\n",
    "        return False\n",
    "    for i in range(l):\n",
    "        if username_charater_set.count(username[i]) == 0:\n",
    "            return False\n",
    "    return True\n",
    "\n",
    "def check_domain(domain):\n",
    "    l = len(domain)\n",
    "    if l<3 or l>10:\n",
    "        return False\n",
    "    for i in range(l):\n",
    "        if lowercase_letters.count(domain[i]) == 0:\n",
    "            return False\n",
    "    return True\n",
    "\n",
    "def check_extension(extension):\n",
    "    l = len(extension)\n",
    "    if l<2 or l>4:\n",
    "        return False\n",
    "    for i in range(l):\n",
    "        if lowercase_letters.count(extension[i]) == 0:\n",
    "            return False\n",
    "    return True\n",
    "\n",
    "\n",
    "lowercase_letters = [chr(i) for i in range(97,123)]\n",
    "numbers = [str(i) for i in range(10)]\n",
    "username_charater_set = ['-','_'] + numbers + lowercase_letters\n",
    "\n",
    "n = int(input(\"Enter n : \\n\"))\n",
    "usernames = []\n",
    "domains = []\n",
    "extensions = []\n",
    "\n",
    "for i in range(n):\n",
    "    s = input()\n",
    "    x = s.split('@')\n",
    "    y = x[1].split('.')\n",
    "    usernames.append(x[0])\n",
    "    domains.append(y[0])\n",
    "    extensions.append(y[1])\n",
    "\n",
    "results = []\n",
    "\n",
    "for i in range(n):\n",
    "    x = check_username(usernames[i])\n",
    "    y = check_domain(domains[i])\n",
    "    z = check_extension(extensions[i])\n",
    "    res = x and y and z\n",
    "    if res:\n",
    "        results.append('Valid')\n",
    "    else:\n",
    "        results.append('Invalid')\n",
    "\n",
    "for i in results:\n",
    "    print(i, end = '\\n')\n"
   ]
  },
  {
   "cell_type": "code",
   "execution_count": null,
   "metadata": {},
   "outputs": [],
   "source": [
    "\n"
   ]
  }
 ],
 "metadata": {
  "kernelspec": {
   "display_name": "Python 3",
   "language": "python",
   "name": "python3"
  },
  "language_info": {
   "codemirror_mode": {
    "name": "ipython",
    "version": 3
   },
   "file_extension": ".py",
   "mimetype": "text/x-python",
   "name": "python",
   "nbconvert_exporter": "python",
   "pygments_lexer": "ipython3",
   "version": "3.7.3"
  }
 },
 "nbformat": 4,
 "nbformat_minor": 2
}
