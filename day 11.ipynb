{
 "cells": [
  {
   "cell_type": "markdown",
   "metadata": {},
   "source": [
    "# Day 11\n",
    "\n",
    "\n",
    "\n",
    "Problem 1:\n",
    "    \n",
    "Problem Statement:Define a function for a given number check it is divisible by 2 and 3 and not 4.\n",
    "Constraints: Given number will be in the range[1,1000000000]\n",
    "    \n",
    "Test Cases\n",
    "\n",
    "Test case 1: checkdivisibility(6)->True \n",
    "Test case 2: checkdivisibility(16)->False\n",
    "Test case 3: checkdivisibility(20)->False\n",
    "\n"
   ]
  },
  {
   "cell_type": "code",
   "execution_count": 4,
   "metadata": {},
   "outputs": [
    {
     "data": {
      "text/plain": [
       "True"
      ]
     },
     "execution_count": 4,
     "metadata": {},
     "output_type": "execute_result"
    }
   ],
   "source": [
    "\n",
    "def checkdivisibility(n):\n",
    "    if n%2==0 and n%3==0 and n%4!=0:\n",
    "       return True\n",
    "    else:\n",
    "        return False\n",
    "checkdivisibility(6)\n"
   ]
  },
  {
   "cell_type": "markdown",
   "metadata": {},
   "source": [
    "Problem 2:\n",
    "\n",
    "Problem Statement: Define a function to evaluate the polynomial f(x)= x^3 + 2 X^2 + 3 X - 10.\n",
    "Constraints: Given number will be in the range [1, 1000]\n",
    "\n",
    "Test Cases:\n",
    "\n",
    "Test case 1: quadfunc(3)\n",
    "\n",
    "Test case 2: quadfunc(5)\n",
    "    "
   ]
  },
  {
   "cell_type": "code",
   "execution_count": 5,
   "metadata": {},
   "outputs": [
    {
     "name": "stdout",
     "output_type": "stream",
     "text": [
      "x= 698\n",
      "341044884\n",
      "x= 455\n",
      "94611780\n"
     ]
    }
   ],
   "source": [
    "import random\n",
    "def quadfunc():\n",
    "    x=random.randrange(1,1000)\n",
    "    value=((x**3)+(2*x**2)+(3*x)-10)\n",
    "    print(\"x=\",x)\n",
    "    return value\n",
    "\n",
    "print(quadfunc())\n",
    "print(quadfunc())"
   ]
  },
  {
   "cell_type": "markdown",
   "metadata": {},
   "source": [
    "Problem 3:\n",
    "    \n",
    "Problem Statement: Define a function to determining whether a number is Even or Odd\n",
    "Constraints: Given number will be in the range [1, 1000]\n",
    "\n",
    "Test Cases:\n",
    "\n",
    "Test case 1: EvenOrOdd(3)\n",
    "\n",
    "Test case 2: EvenOrOdd(8)\n",
    "\n",
    "    \n"
   ]
  },
  {
   "cell_type": "code",
   "execution_count": 6,
   "metadata": {},
   "outputs": [
    {
     "name": "stdout",
     "output_type": "stream",
     "text": [
      "3 odd\n",
      "8 even\n"
     ]
    }
   ],
   "source": [
    "def EvenOrOdd(n):\n",
    "    if(n%2==0):\n",
    "        return \"even\"\n",
    "    else:\n",
    "        return \"odd\"    \n",
    "print(\"3\",EvenOrOdd(3))\n",
    "print(\"8\",EvenOrOdd(8))\n"
   ]
  },
  {
   "cell_type": "code",
   "execution_count": null,
   "metadata": {},
   "outputs": [],
   "source": [
    "Problem 5:\n",
    "    \n",
    "Problem Statement: Given 2 ints, a and b, define a function that returns True if one if them is 10 or if their sum is 10.\n",
    "Constraints: Given number will be in the range [1, 1000]\n",
    "\n",
    "Test Cases:\n",
    "\n",
    "Test case 1: makes10(9, 10) → True\n",
    "\n",
    "Test case 2:makes10(9, 9) → False\n",
    "\n",
    "Test case 3:makes10(1, 9) → True\n",
    "\n"
   ]
  },
  {
   "cell_type": "code",
   "execution_count": 7,
   "metadata": {},
   "outputs": [
    {
     "name": "stdout",
     "output_type": "stream",
     "text": [
      "True\n",
      "False\n",
      "True\n"
     ]
    }
   ],
   "source": [
    "def makes10(x,y):\n",
    "    if(x==10 or y==10 or x+y==10):\n",
    "        return True\n",
    "    else:\n",
    "        return False\n",
    "    \n",
    "print(makes10(9, 10))\n",
    "print(makes10(9, 9))\n",
    "print(makes10(1, 9))"
   ]
  },
  {
   "cell_type": "markdown",
   "metadata": {},
   "source": [
    "Problem 6:\n",
    "    \n",
    "Problem Statement: Given 2 int values,define a function that returns True if one is negative and one is positive. Except if the parameter\n",
    "\"negative\" is True, then return True only if both are negative.\n",
    "Constraints: Given number will be in the range [-1000, 1000]\n",
    "    \n",
    "Test Cases:\n",
    "    \n",
    "Test case 1: pos_neg(1, -1, False) → True\n",
    "    \n",
    "Test case 2:pos_neg(-1, 1, False) → True\n",
    "    \n",
    "Test case 3:pos_neg(-4, -5, True) → True\n",
    "    \n",
    "Test case 4:pos_neg(-1, 1, True) → False\n",
    "    \n",
    "Test case 5:pos_neg(1, 1, True) → False\n",
    "    \n",
    "Test case 6:pos_neg(-1, -1, False) → False\n",
    "    "
   ]
  },
  {
   "cell_type": "code",
   "execution_count": 8,
   "metadata": {},
   "outputs": [
    {
     "name": "stdout",
     "output_type": "stream",
     "text": [
      "True\n",
      "True\n",
      "True\n",
      "False\n",
      "False\n",
      "False\n"
     ]
    }
   ],
   "source": [
    "def pos_neg(n1,n2,b):\n",
    "    if (((n1<0 and n2>0) or (n1>0 and n2<0)) and b==False):\n",
    "        return True\n",
    "    elif( n1<0 and n2<0 and b==True):\n",
    "        return True\n",
    "    else:\n",
    "        return False\n",
    "print(pos_neg(1, -1, False))\n",
    "print(pos_neg(-1, 1, False))\n",
    "print(pos_neg(-4, -5, True))\n",
    "print(pos_neg(-1, 1, True))\n",
    "print(pos_neg(1, 1, True))\n",
    "print(pos_neg(-1, -1, False))"
   ]
  },
  {
   "cell_type": "markdown",
   "metadata": {},
   "source": [
    "Problem 7:\n",
    "    \n",
    "Problem Statement:Given an int n, return True if it is within 10 of 100 or 200. Note: abs(num) computes the absolute value of a number.\n",
    "Constraints: Given number will be in the range [1, 1000]\n",
    "    \n",
    "Test Cases:\n",
    "    \n",
    "Test case 1:near_hundred(93) → True\n",
    "    \n",
    "Test case 2:near_hundred(90) → True\n",
    "    \n",
    "Test case 3:near_hundred(89) → False\n",
    "    "
   ]
  },
  {
   "cell_type": "code",
   "execution_count": 9,
   "metadata": {},
   "outputs": [
    {
     "name": "stdout",
     "output_type": "stream",
     "text": [
      "True\n",
      "True\n",
      "False\n"
     ]
    }
   ],
   "source": [
    "def near_hundred(n):\n",
    "    if((90<=n<=110) or (190<=n<=210)) :\n",
    "            return True\n",
    "    else:\n",
    "        return False\n",
    "    \n",
    "print(near_hundred(93))\n",
    "print(near_hundred(110))\n",
    "print(near_hundred(89))"
   ]
  },
  {
   "cell_type": "markdown",
   "metadata": {},
   "source": [
    "Problem 8:\n",
    "    \n",
    "Problem Statement:Create a Random Number Generator as a Procedure which takes the Range(lb, ub) and returns a Random number in the given range\n",
    "Constraints: Given number will be in the range [1, 1000]\n",
    "    \n",
    "Test Cases:\n",
    "    \n",
    "Test case 1:randomGeneration(1,101)"
   ]
  },
  {
   "cell_type": "code",
   "execution_count": 10,
   "metadata": {},
   "outputs": [
    {
     "data": {
      "text/plain": [
       "98"
      ]
     },
     "execution_count": 10,
     "metadata": {},
     "output_type": "execute_result"
    }
   ],
   "source": [
    "import random\n",
    "\n",
    "def randomGenerator(lb,ub):\n",
    "    return random.randrange(lb,ub)\n",
    "\n",
    "randomGenerator(1,101)"
   ]
  },
  {
   "cell_type": "markdown",
   "metadata": {},
   "source": [
    "for explaining loop concept"
   ]
  },
  {
   "cell_type": "code",
   "execution_count": 11,
   "metadata": {},
   "outputs": [
    {
     "data": {
      "text/plain": [
       "50825502708446070"
      ]
     },
     "execution_count": 11,
     "metadata": {},
     "output_type": "execute_result"
    }
   ],
   "source": [
    "import random\n",
    "\n",
    "def sumRandNum(n,lb,ub):\n",
    "    sum=0\n",
    "    for count in range(0,n):\n",
    "        sum=sum+random.randint(lb,ub)\n",
    "    return sum\n",
    "sumRandNum(100,0,1000000000000000)"
   ]
  },
  {
   "cell_type": "markdown",
   "metadata": {},
   "source": [
    "Problem 9:\n",
    "    \n",
    "Problem Statement:Design a procedure to perform Linear search on list of N unsorted unique numbers. It take an array and the key element to be searched and returns the index of the element of key element if found. Else returns -1\n",
    "Constraints: Given number will be in the range [1, 1000]\n",
    "    \n",
    "Test Cases:\n",
    "    \n",
    "Test case 1:LinearSearch( a[5,4,3,2,1], 4) -> 2\n",
    "    \n",
    "Test case 2:LinearSearch( a[90, 123, 324, 21, 56], 22) -> -1\n",
    "    \n",
    "Test case 3:LinearSearch( a[321, 543, 567, 789,], 567) -> 2\n",
    "    "
   ]
  },
  {
   "cell_type": "code",
   "execution_count": 12,
   "metadata": {},
   "outputs": [
    {
     "data": {
      "text/plain": [
       "1"
      ]
     },
     "execution_count": 12,
     "metadata": {},
     "output_type": "execute_result"
    }
   ],
   "source": [
    "def linearSearch(a,key):\n",
    "    for i in range(0,len(a)):\n",
    "        if(a[i]==key):\n",
    "            return i\n",
    "    return -1\n",
    "\n",
    "linearSearch([5,4,3,2,1],4)"
   ]
  },
  {
   "cell_type": "markdown",
   "metadata": {},
   "source": [
    "Problem 10:\n",
    "    \n",
    "Problem Statement:Designing procedures for Basic Arithmetic operations\n",
    "Constraints: Given number will be in the range [1, 1000]\n",
    "    \n",
    "Test Cases:\n",
    "    \n",
    "Test case 1:arthematicopern(2,3,+) -> 5\n",
    "    \n",
    "Test case 2:arthematicopern(90,20,-) -> 70\n",
    "    \n",
    "Test case 3:arthematicopern(5,2,*) -> 10"
   ]
  },
  {
   "cell_type": "code",
   "execution_count": 13,
   "metadata": {},
   "outputs": [
    {
     "name": "stdout",
     "output_type": "stream",
     "text": [
      "5\n",
      "70\n",
      "10\n"
     ]
    }
   ],
   "source": [
    "def arthematicopern(a,b,op):\n",
    "    if(op=='+'):\n",
    "        return (a+b)\n",
    "    elif(op=='-'):\n",
    "        return (a-b)\n",
    "    elif(op=='*'):\n",
    "        return (a*b)\n",
    "    elif(op=='/'):\n",
    "        return (a/b)\n",
    "    elif(op=='%'):\n",
    "        return (a%b)\n",
    "    else:\n",
    "        return \"Invalid operator\"\n",
    "\n",
    "print(arthematicopern(2,3,'+'))\n",
    "print(arthematicopern(90,20,'-'))\n",
    "print(arthematicopern(5,2,'*'))\n"
   ]
  },
  {
   "cell_type": "markdown",
   "metadata": {},
   "source": [
    "Problem 11:\n",
    "    \n",
    "Problem Statement:Procedure to print N natural numbers.\n",
    "Constraints: Given number will be in the range [1, 1000]\n",
    "    \n",
    "Test Cases:\n",
    "    \n",
    "Test case 1:naturalNum(8)\n",
    "    \n",
    "Test case 2:naturalNum(2)\n",
    "    \n",
    "Test case 3:naturalNum(5)"
   ]
  },
  {
   "cell_type": "code",
   "execution_count": 14,
   "metadata": {},
   "outputs": [
    {
     "name": "stdout",
     "output_type": "stream",
     "text": [
      "1\n",
      "2\n",
      "3\n",
      "4\n",
      "5\n",
      "6\n",
      "7\n",
      "8\n",
      "1\n",
      "2\n",
      "1\n",
      "2\n",
      "3\n",
      "4\n",
      "5\n"
     ]
    }
   ],
   "source": [
    "def naturalNum(n):\n",
    "    for i in range(1,n):\n",
    "        print(i)\n",
    "    return n\n",
    "\n",
    "print(naturalNum(8))\n",
    "print(naturalNum(2))\n",
    "print(naturalNum(5))"
   ]
  },
  {
   "cell_type": "markdown",
   "metadata": {},
   "source": [
    "Problem 12:\n",
    "    \n",
    "Problem Statement:Procedure to calculate the factorial of a given number\n",
    "Constraints: Given number will be in the range [1, 1000]\n",
    "    \n",
    "Test Cases\n",
    "\n",
    "Test case 1:fact(5) -> 120\n",
    "    \n",
    "Test case 2:fact(3) -> 6\n",
    "    \n",
    "Test case 3:fact(6) -> 720\n",
    "    "
   ]
  },
  {
   "cell_type": "code",
   "execution_count": 15,
   "metadata": {},
   "outputs": [
    {
     "name": "stdout",
     "output_type": "stream",
     "text": [
      "n= 5 fact= 120\n",
      "n= 3 fact= 6\n",
      "n= 6 fact= 720\n"
     ]
    }
   ],
   "source": [
    "def fact(n):\n",
    "    f=1\n",
    "    for i in range(1,n+1):\n",
    "        f=f*i\n",
    "    return f\n",
    "\n",
    "print(\"n=\",5,\"fact=\",fact(5))\n",
    "print(\"n=\",3,\"fact=\",fact(3))\n",
    "print(\"n=\",6,\"fact=\",fact(6))"
   ]
  },
  {
   "cell_type": "markdown",
   "metadata": {},
   "source": [
    "Problem 13:\n",
    "    \n",
    "Problem Statement:Procedure to generate multiplication tables.\n",
    "Constraints: Given number will be in the range [1, 1000]\n",
    "    \n",
    "Test Cases:\n",
    "    \n",
    "Test case 1:MT(3, 5, 7) -> 3 X 5 = 15\n",
    "                       3 X 6 = 18\n",
    "                       3 X 7 = 21"
   ]
  },
  {
   "cell_type": "code",
   "execution_count": 21,
   "metadata": {},
   "outputs": [
    {
     "name": "stdout",
     "output_type": "stream",
     "text": [
      "3 x 5 = 15\n",
      "3 x 5 = 18\n",
      "3 x 5 = 21\n"
     ]
    },
    {
     "data": {
      "text/plain": [
       "' '"
      ]
     },
     "execution_count": 21,
     "metadata": {},
     "output_type": "execute_result"
    }
   ],
   "source": [
    "def MT(n,lb,ub):\n",
    "    for i in range(lb,ub+1):\n",
    "        value=n*i\n",
    "        print(n,\"x\",lb,\"=\",value)\n",
    "    return \" \"\n",
    "\n",
    "MT(3,5,7)"
   ]
  },
  {
   "cell_type": "markdown",
   "metadata": {},
   "source": [
    "Problem 14:\n",
    "    \n",
    "Problem Statement:Procedure to print the list of factors of a given number.\n",
    "Constraints: Given number will be in the range [1, 1000]\n",
    "    \n",
    "Test Cases:\n",
    "    \n",
    "Test case 1:FactorList(6) -> 1 2 3 6\n",
    "    \n",
    "Test case 2:FactorList (9) -> 1 3 9\n",
    "    \n",
    "Test case 3:FactorList (19) -> 1 19\n",
    "    "
   ]
  },
  {
   "cell_type": "code",
   "execution_count": 22,
   "metadata": {},
   "outputs": [
    {
     "name": "stdout",
     "output_type": "stream",
     "text": [
      "1\n",
      "2\n",
      "3\n",
      "6\n",
      "-----  \n",
      "1\n",
      "3\n",
      "9\n",
      "-----  \n",
      "1\n",
      "19\n",
      " \n"
     ]
    }
   ],
   "source": [
    "def FactorList(n):\n",
    "    for i in range(1,n+1):\n",
    "        if(n%i==0):\n",
    "            print(i)\n",
    "    return \" \"\n",
    "\n",
    "print(\"-----\",FactorList(6))\n",
    "print(\"-----\",FactorList(9))\n",
    "print(FactorList(19))"
   ]
  },
  {
   "cell_type": "markdown",
   "metadata": {},
   "source": [
    "Problem 15:\n",
    "    \n",
    "Problem Statement:Procedure to check if a given number is Prime and returns a Boolean value.\n",
    "Constraints: Given number will be in the range [1, 1000]\n",
    "    \n",
    "Test Cases:\n",
    "    \n",
    "Test case 1:IsPrime(7) -> True\n",
    "    \n",
    "Test case 2:IsPrime(9) -> False\n",
    "    "
   ]
  },
  {
   "cell_type": "code",
   "execution_count": 23,
   "metadata": {},
   "outputs": [
    {
     "name": "stdout",
     "output_type": "stream",
     "text": [
      "True\n",
      "False\n"
     ]
    }
   ],
   "source": [
    "def IsPrime(n):\n",
    "    count=0\n",
    "    for i in range(2,n):\n",
    "        if(n%i==0):\n",
    "            count+=1\n",
    "    if(count==0):\n",
    "        return True\n",
    "    else:\n",
    "        return False\n",
    "    \n",
    "print(IsPrime(7))\n",
    "print(IsPrime(9))"
   ]
  },
  {
   "cell_type": "markdown",
   "metadata": {},
   "source": [
    "Problem 16 :\n",
    "    \n",
    "Problem Statement: Define a function calculate the maximum, minimum and average of N numbers\n",
    "Constraints: Given number will be given in [1,1000]\n",
    "    \n",
    "Test Cases\n",
    "\n",
    "data( a[1,2,3,4,5] ) -> Max = 5, Min = 1, Avg = 3\n"
   ]
  },
  {
   "cell_type": "code",
   "execution_count": 24,
   "metadata": {},
   "outputs": [
    {
     "name": "stdout",
     "output_type": "stream",
     "text": [
      "max =  5\n",
      "min =  1\n",
      "avg =  3\n"
     ]
    }
   ],
   "source": [
    "def data(a):\n",
    "    max=a[1]\n",
    "    min=a[1]\n",
    "    sum=0\n",
    "    for i in range(0,len(a)):\n",
    "        if a[i]>max:\n",
    "            max=a[i]\n",
    "        if a[i]<min:\n",
    "            min=a[i]\n",
    "        sum=sum+a[i]\n",
    "    print(\"max = \",max)\n",
    "    print(\"min = \",min)\n",
    "    avg=int(sum/i)\n",
    "    return avg\n",
    "print(\"avg = \",data(a=[1,2,3,4,5]))"
   ]
  },
  {
   "cell_type": "markdown",
   "metadata": {},
   "source": [
    "Problem 17 :\n",
    "    \n",
    "Problem Statement:Design a procedure to determine if a given string is a Palindrome\n",
    "Constraints: Length of string will be given in the range [1,1000]\n",
    "    \n",
    "Test Cases\n",
    "\n",
    "Palindrome(\"racecar\") -> True\n",
    "\n",
    "Palindrome(\"raptor\") -> False"
   ]
  },
  {
   "cell_type": "code",
   "execution_count": 25,
   "metadata": {},
   "outputs": [
    {
     "name": "stdout",
     "output_type": "stream",
     "text": [
      "racecar\n",
      "True\n",
      "rotpar\n",
      "False\n"
     ]
    }
   ],
   "source": [
    "def Palindrome(s):\n",
    "    x=len(s)-1\n",
    "    strn=s[x::-1]\n",
    "    print(strn)\n",
    "    if(s==strn):\n",
    "        return True\n",
    "    else:\n",
    "        return False\n",
    "print(Palindrome(\"racecar\"))\n",
    "print(Palindrome(\"raptor\"))"
   ]
  },
  {
   "cell_type": "markdown",
   "metadata": {},
   "source": [
    "Problem 18 :\n",
    "\n",
    "Problem Statement:Define a function to calculate the squareroot of a number \"without using the math function sqrt\".\n",
    "Constraints: Given number will be given in [1,1000]\n",
    "\n",
    "Test Cases\n",
    "\n",
    "Squareroot(36) -> 6"
   ]
  },
  {
   "cell_type": "code",
   "execution_count": 26,
   "metadata": {},
   "outputs": [
    {
     "name": "stdout",
     "output_type": "stream",
     "text": [
      "6.0\n"
     ]
    }
   ],
   "source": [
    "def Squarerroot(n):\n",
    "    return n**0.5\n",
    "print(Squarerroot(36))\n"
   ]
  },
  {
   "cell_type": "code",
   "execution_count": null,
   "metadata": {},
   "outputs": [],
   "source": []
  }
 ],
 "metadata": {
  "kernelspec": {
   "display_name": "Python 3",
   "language": "python",
   "name": "python3"
  },
  "language_info": {
   "codemirror_mode": {
    "name": "ipython",
    "version": 3
   },
   "file_extension": ".py",
   "mimetype": "text/x-python",
   "name": "python",
   "nbconvert_exporter": "python",
   "pygments_lexer": "ipython3",
   "version": "3.7.3"
  }
 },
 "nbformat": 4,
 "nbformat_minor": 2
}
